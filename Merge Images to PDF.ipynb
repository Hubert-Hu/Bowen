{
 "cells": [
  {
   "cell_type": "code",
   "execution_count": 1,
   "metadata": {},
   "outputs": [],
   "source": [
    "from PIL import Image\n",
    "import os, glob, time\n",
    "from tqdm import tqdm"
   ]
  },
  {
   "cell_type": "code",
   "execution_count": 4,
   "metadata": {},
   "outputs": [
    {
     "name": "stderr",
     "output_type": "stream",
     "text": [
      "100%|██████████| 41/41 [00:30<00:00,  1.32it/s]\n"
     ]
    }
   ],
   "source": [
    "def merge_images_to_pdf(folder):\n",
    "    #folder = QtWidgets.QFileDialog.getExistingDirectory()\n",
    "    #if folder == '':\n",
    "    #    return 0\n",
    "\n",
    "    f_list = iter(folder.split('/')[::-1])\n",
    "    while 1:\n",
    "        last = next(f_list)\n",
    "        if last: break\n",
    "    result_folder = folder + last +' PDF/'\n",
    "    if not os.path.exists(result_folder): os.mkdir(result_folder)\n",
    "    subfolders = [x[0] for x in os.walk(folder)]\n",
    "\n",
    "    # Get all the file names in the folder with a jpg format. \n",
    "    for temp in tqdm(subfolders):\n",
    "        os.chdir(temp)\n",
    "        file_names = sorted(glob.glob('*.jpg'), key=lambda x: int((x.split('.')[0]).split('-')[1])) #'sorted' sorts into alphabetical order\n",
    "        file_names = file_names[:]\n",
    "        if not file_names: continue\n",
    "\n",
    "        images = []\n",
    "        for file in file_names:\n",
    "            images.append(Image.open(file).convert('RGB'))\n",
    "\n",
    "        images[0].save(result_folder+temp.split('/')[-1]+'.pdf',save_all=True, append_images=images[1:])\n",
    "\n",
    "# Set the folder where your data is.\n",
    "folder = '/Users/lakerhoo/Documents/Grace/学/a/a/'\n",
    "merge_images_to_pdf(folder)"
   ]
  },
  {
   "cell_type": "code",
   "execution_count": null,
   "metadata": {},
   "outputs": [],
   "source": []
  }
 ],
 "metadata": {
  "kernelspec": {
   "display_name": "Python 3",
   "language": "python",
   "name": "python3"
  },
  "language_info": {
   "codemirror_mode": {
    "name": "ipython",
    "version": 3
   },
   "file_extension": ".py",
   "mimetype": "text/x-python",
   "name": "python",
   "nbconvert_exporter": "python",
   "pygments_lexer": "ipython3",
   "version": "3.7.1"
  }
 },
 "nbformat": 4,
 "nbformat_minor": 4
}
